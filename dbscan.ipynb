{
 "metadata": {
  "language_info": {
   "codemirror_mode": {
    "name": "ipython",
    "version": 3
   },
   "file_extension": ".py",
   "mimetype": "text/x-python",
   "name": "python",
   "nbconvert_exporter": "python",
   "pygments_lexer": "ipython3",
   "version": "3.9.4"
  },
  "orig_nbformat": 2,
  "kernelspec": {
   "name": "python394jvsc74a57bd0aee8b7b246df8f9039afb4144a1f6fd8d2ca17a180786b69acc140d282b71a49",
   "display_name": "Python 3.9.4 64-bit"
  },
  "metadata": {
   "interpreter": {
    "hash": "aee8b7b246df8f9039afb4144a1f6fd8d2ca17a180786b69acc140d282b71a49"
   }
  }
 },
 "nbformat": 4,
 "nbformat_minor": 2,
 "cells": [
  {
   "cell_type": "code",
   "execution_count": 1,
   "metadata": {},
   "outputs": [],
   "source": [
    "import csv\n",
    "import matplotlib.pyplot as plt\n",
    "import numpy as np\n",
    "from scipy import spatial\n",
    "from skimage.io import imread_collection, imread, imshow\n",
    "import sys\n",
    "from sklearn.decomposition import PCA, TruncatedSVD\n",
    "from PIL import Image\n",
    "import random\n",
    "from scipy.spatial import distance\n",
    "sys.setrecursionlimit(100000)"
   ]
  },
  {
   "cell_type": "code",
   "execution_count": 2,
   "metadata": {},
   "outputs": [],
   "source": [
    "def load(redux, redux_type):\n",
    "    #PROCESAMIENTO DE DATOS\n",
    "    borrarcomillas = lambda x: x.replace('\"', '')\n",
    "    names = np.genfromtxt('clase.csv', dtype=None, delimiter=\",\", skip_header=1, usecols=1, encoding='utf-8', converters={1: borrarcomillas})\n",
    "    data = np.genfromtxt('dataset.csv', delimiter=\",\")\n",
    "\n",
    "    #REDUCCION DE DIMENSIONALIDAD\n",
    "    svd = TruncatedSVD(n_components=redux)\n",
    "    pca = PCA(n_components=redux)\n",
    "    datos = data\n",
    "    if redux_type == 0:\n",
    "        datos = svd.fit(data).transform(data)\n",
    "    elif redux_type == 1:\n",
    "        datos = pca.fit(data).transform(data)\n",
    "\n",
    "    #VARIABLES UTILES\n",
    "    n_datos = len(datos)\n",
    "    dim_datos = len(datos[0])\n",
    "    \n",
    "    #CARGA DE PUNTOS\n",
    "    puntos = []\n",
    "    for i in range(n_datos):\n",
    "        puntos.append(np.array(datos[i]))\n",
    "  \n",
    "    #RETORNO DE LOS PUNTOS CARGADOS, LA DIMENSION DE LOS DATOS Y LOS LABELS CORRECTOS\n",
    "    return puntos, dim_datos, names"
   ]
  },
  {
   "cell_type": "code",
   "execution_count": 3,
   "metadata": {},
   "outputs": [],
   "source": [
    "def dbscan(idx, punto, clusterId, radio):\n",
    "\tglobal visitados\n",
    "\tglobal clusteres\n",
    "\tif clusteres.get(clusterId) == None:\n",
    "\t\tclusteres[clusterId] = []\n",
    "\tif visitados[idx]:\n",
    "\t\treturn\n",
    "\tif not visitados[idx]: # si no ha sido visitado\n",
    "\t\tvecinos = kdtree.query_ball_point(punto, radio) # agarro los puntos dentro del radio\n",
    "\t\tvisitados[idx] = True # marco el centro como visitado\n",
    "\t\tvisitados_en_rango = 0 # cuantos de mis vecinos han sido visitados\n",
    "\t\tno_visitados = [] # vecinos que no han sido visitados\n",
    "\t\tno_visitados_indices = [] # indices de los vecinos que no han sido visitados\n",
    "\t\tfor vecino in vecinos: # por cada vecino\n",
    "\t\t\tif visitados[vecino]: # si ha sido visitado\n",
    "\t\t\t\tvisitados_en_rango += 1 # aumentar contador de ya visitados\n",
    "\t\t\telse: # si no ha sido visitado\n",
    "\t\t\t\tclusteres[clusterId].append(names[vecino])\n",
    "\t\t\t\tno_visitados.append(puntos[vecino]) # añadir el vecino a la lista de vecinos no visitados\n",
    "\t\t\t\tno_visitados_indices.append(vecino)\n",
    "\t\tif visitados_en_rango == len(vecinos) : # si todos mis vecinos han sido visitados, ya termine con el cluster\n",
    "\t\t\treturn\n",
    "\t\tfor indice, no_visitado in enumerate(no_visitados):\n",
    "\t\t\tif indice >= len(no_visitados_indices):\n",
    "\t\t\t\tcontinue\n",
    "\t\t\tdbscan(idx=no_visitados_indices[indice], punto=no_visitado, clusterId=clusterId, radio=radio)"
   ]
  },
  {
   "cell_type": "code",
   "execution_count": 4,
   "metadata": {},
   "outputs": [],
   "source": [
    "def mean_distance():\n",
    "    mean_distance = 0\n",
    "    for i in range(len(puntos)):\n",
    "        for j in range(len(puntos)):\n",
    "            if i != j:\n",
    "                mean_distance += distance.euclidean(puntos[i], puntos[j])\n",
    "    mean_distance = mean_distance/len(puntos)**2\n",
    "    return mean_distance"
   ]
  },
  {
   "cell_type": "code",
   "execution_count": 5,
   "metadata": {},
   "outputs": [],
   "source": [
    "def find_no_visitado():\n",
    "\tfor idx, punto in enumerate(visitados):\n",
    "\t\tif not punto:\n",
    "\t\t\treturn [idx, puntos[idx]]\n",
    "\treturn []"
   ]
  },
  {
   "cell_type": "code",
   "execution_count": 6,
   "metadata": {},
   "outputs": [],
   "source": [
    "redux = 100\n",
    "redux_type = 0\n",
    "\n",
    "puntos, dim_datos, names = load(redux, redux_type)\n",
    "visitados = [False] * len(puntos)\n",
    "kdtree = spatial.KDTree(puntos)"
   ]
  },
  {
   "cell_type": "code",
   "execution_count": 7,
   "metadata": {
    "tags": []
   },
   "outputs": [],
   "source": [
    "clusteres = {}\n",
    "visitados = [False] * len(puntos)\n",
    "\n",
    "pt = find_no_visitado()\n",
    "clusterId = 0\n",
    "min_points = 20\n",
    "radio = mean_distance() - 55\n",
    "\n",
    "while pt != []:\n",
    "    dbscan(pt[0], pt[1], clusterId, radio)\n",
    "    clusterId += 1\n",
    "    pt = find_no_visitado()"
   ]
  },
  {
   "cell_type": "code",
   "execution_count": 8,
   "metadata": {
    "tags": []
   },
   "outputs": [],
   "source": [
    "final_clusteres = {}\n",
    "e = 10\n",
    "\n",
    "for key in clusteres.keys():\n",
    "    if len(clusteres[key]) == 0 or len(clusteres[key]) < min_points:\n",
    "        continue\n",
    "    cur_cluster = {}\n",
    "    for label in clusteres[key]:\n",
    "        if cur_cluster.get(label) == None:\n",
    "            cur_cluster[label] = 1\n",
    "        else:\n",
    "            cur_cluster[label] = cur_cluster[label] + 1\n",
    "    max_repeticion = 0\n",
    "    final_label = ''\n",
    "    for key_ in cur_cluster.keys():\n",
    "        if max_repeticion < cur_cluster[key_]:\n",
    "            max_repeticion = cur_cluster[key_]\n",
    "            final_label = key_ + str(e) # Para evitar colisiones\n",
    "    e += 1\n",
    "    final_clusteres[final_label] = clusteres[key]"
   ]
  },
  {
   "cell_type": "code",
   "execution_count": 9,
   "metadata": {},
   "outputs": [
    {
     "output_type": "stream",
     "name": "stdout",
     "text": [
      "Cluster: kidney10\n100.0 % de valores correctos. (size: 174)\n\nCluster: cerebellum11\n53.3981 % de valores correctos. (size: 824)\n\nCluster: colon12\n100.0 % de valores correctos. (size: 436)\n\nCluster: liver13\n100.0 % de valores correctos. (size: 185)\n\nCluster: endometrium14\n100.0 % de valores correctos. (size: 61)\n\n"
     ]
    }
   ],
   "source": [
    "for key in final_clusteres.keys():\n",
    "    count = 0\n",
    "    size = len(key)\n",
    "\n",
    "    for label in final_clusteres[key]:\n",
    "        if label == key[:size - 2]:\n",
    "            count += 1\n",
    "    \n",
    "    print(\"Cluster:\", key)\n",
    "    print(round(count/len(final_clusteres[key]) * 100, 4), \"% de valores correctos.\", \"(size: \" + str(len(final_clusteres[key])) + \")\\n\")"
   ]
  }
 ]
}