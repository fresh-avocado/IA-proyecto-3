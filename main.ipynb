{
 "cells": [
  {
   "cell_type": "code",
   "execution_count": 12,
   "metadata": {},
   "outputs": [],
   "source": [
    "import numpy as np\n",
    "from numpy import genfromtxt"
   ]
  },
  {
   "cell_type": "markdown",
   "metadata": {},
   "source": []
  },
  {
   "cell_type": "code",
   "execution_count": 51,
   "metadata": {},
   "outputs": [],
   "source": [
    "# lambda para borrar las comillas dobles de un string\n",
    "borrarcomillas = lambda x: x.replace('\"', '')\n",
    "\n",
    "# leo el dataset, tomando ',' como delimitador, ignorando la primera línea (header)\n",
    "# y tomando en cuenta solo las columnas 2-189 (la primera tiene el nombre de cada dimensión)\n",
    "data = np.genfromtxt('dataset_tissue.txt', delimiter=\",\", skip_header=1, usecols=range(1, 190))\n",
    "# leer los nombres de cada tejido\n",
    "# converters={1: borrarcomillas} -> para los datos de la columna 1, aplicarle el\n",
    "# lambda 'borrarcomillas' e insertar el valor retornado\n",
    "names = np.genfromtxt('clase.csv', dtype=None, delimiter=\",\", skip_header=1, usecols=1, encoding='utf-8', converters={1: borrarcomillas})\n",
    "# transpuesta ya q las columnas son data points y las filas son caracteristicas\n",
    "data = data.transpose()\n",
    "\n",
    "# guardar la data en un csv\n",
    "# np.savetxt('dataset.csv', data, delimiter=\",\", fmt='%.12f')"
   ]
  },
  {
   "cell_type": "code",
   "execution_count": 55,
   "metadata": {},
   "outputs": [
    {
     "name": "stdout",
     "output_type": "stream",
     "text": [
      "(189, 22215)\n",
      "['kidney' 'kidney' 'kidney' 'kidney' 'kidney' 'kidney' 'kidney' 'kidney'\n",
      " 'kidney' 'kidney' 'kidney' 'kidney' 'kidney' 'kidney' 'kidney' 'kidney'\n",
      " 'hippocampus' 'hippocampus' 'hippocampus' 'hippocampus' 'hippocampus'\n",
      " 'hippocampus' 'hippocampus' 'hippocampus' 'hippocampus' 'hippocampus'\n",
      " 'hippocampus' 'hippocampus' 'hippocampus' 'hippocampus' 'hippocampus'\n",
      " 'hippocampus' 'hippocampus' 'hippocampus' 'hippocampus' 'hippocampus'\n",
      " 'hippocampus' 'hippocampus' 'hippocampus' 'hippocampus' 'hippocampus'\n",
      " 'hippocampus' 'hippocampus' 'hippocampus' 'hippocampus' 'hippocampus'\n",
      " 'cerebellum' 'cerebellum' 'cerebellum' 'cerebellum' 'cerebellum'\n",
      " 'cerebellum' 'cerebellum' 'cerebellum' 'cerebellum' 'cerebellum'\n",
      " 'cerebellum' 'cerebellum' 'cerebellum' 'cerebellum' 'cerebellum'\n",
      " 'cerebellum' 'cerebellum' 'cerebellum' 'cerebellum' 'cerebellum'\n",
      " 'cerebellum' 'cerebellum' 'cerebellum' 'cerebellum' 'cerebellum'\n",
      " 'cerebellum' 'cerebellum' 'kidney' 'kidney' 'kidney' 'kidney' 'kidney'\n",
      " 'kidney' 'kidney' 'kidney' 'kidney' 'kidney' 'kidney' 'kidney' 'kidney'\n",
      " 'colon' 'colon' 'colon' 'colon' 'colon' 'colon' 'colon' 'colon' 'colon'\n",
      " 'colon' 'colon' 'colon' 'colon' 'colon' 'colon' 'colon' 'colon' 'colon'\n",
      " 'colon' 'colon' 'colon' 'colon' 'colon' 'colon' 'colon' 'colon' 'colon'\n",
      " 'colon' 'colon' 'colon' 'colon' 'colon' 'colon' 'colon' 'kidney' 'kidney'\n",
      " 'kidney' 'liver' 'liver' 'liver' 'kidney' 'kidney' 'kidney' 'liver'\n",
      " 'liver' 'liver' 'kidney' 'kidney' 'cerebellum' 'hippocampus' 'liver'\n",
      " 'liver' 'liver' 'liver' 'liver' 'liver' 'cerebellum' 'cerebellum' 'liver'\n",
      " 'liver' 'kidney' 'kidney' 'endometrium' 'endometrium' 'endometrium'\n",
      " 'endometrium' 'endometrium' 'endometrium' 'endometrium' 'endometrium'\n",
      " 'endometrium' 'endometrium' 'endometrium' 'endometrium' 'endometrium'\n",
      " 'endometrium' 'endometrium' 'liver' 'liver' 'liver' 'liver' 'liver'\n",
      " 'liver' 'liver' 'liver' 'liver' 'liver' 'liver' 'liver' 'cerebellum'\n",
      " 'cerebellum' 'cerebellum' 'cerebellum' 'cerebellum' 'cerebellum'\n",
      " 'cerebellum' 'cerebellum' 'placenta' 'placenta' 'placenta' 'placenta'\n",
      " 'placenta' 'placenta']\n",
      "(189,)\n"
     ]
    }
   ],
   "source": [
    "datos = np.genfromtxt('dataset.csv', delimiter=\",\")\n",
    "print(datos.shape)\n",
    "print(names)\n",
    "print(names.shape)"
   ]
  }
 ],
 "metadata": {
  "interpreter": {
   "hash": "05ece30799c2dcdac4c13b3af20453da19de8df0d9a1de52cff7e0b6e1e82bdd"
  },
  "kernelspec": {
   "display_name": "Python 3.6.8 64-bit ('3.6')",
   "name": "python3"
  },
  "language_info": {
   "codemirror_mode": {
    "name": "ipython",
    "version": 3
   },
   "file_extension": ".py",
   "mimetype": "text/x-python",
   "name": "python",
   "nbconvert_exporter": "python",
   "pygments_lexer": "ipython3",
   "version": "3.6.8"
  },
  "metadata": {
   "interpreter": {
    "hash": "aee8b7b246df8f9039afb4144a1f6fd8d2ca17a180786b69acc140d282b71a49"
   }
  },
  "orig_nbformat": 2
 },
 "nbformat": 4,
 "nbformat_minor": 2
}